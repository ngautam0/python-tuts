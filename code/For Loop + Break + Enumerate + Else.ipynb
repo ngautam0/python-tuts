{
 "cells": [
  {
   "cell_type": "markdown",
   "metadata": {},
   "source": [
    "# Enumerate and Else with For loop"
   ]
  },
  {
   "cell_type": "code",
   "execution_count": 1,
   "metadata": {},
   "outputs": [],
   "source": [
    "numbers_list = [12,23,45,32,23,45,-1,23,45]"
   ]
  },
  {
   "cell_type": "code",
   "execution_count": 2,
   "metadata": {},
   "outputs": [
    {
     "name": "stdout",
     "output_type": "stream",
     "text": [
      "12\n",
      "23\n",
      "45\n",
      "32\n",
      "23\n",
      "45\n",
      "-1\n",
      "23\n",
      "45\n"
     ]
    }
   ],
   "source": [
    "for number in numbers_list:\n",
    "    print(number)"
   ]
  },
  {
   "cell_type": "code",
   "execution_count": 3,
   "metadata": {},
   "outputs": [
    {
     "name": "stdout",
     "output_type": "stream",
     "text": [
      "12\n",
      "23\n",
      "45\n",
      "32\n",
      "23\n",
      "45\n",
      "-1\n"
     ]
    }
   ],
   "source": [
    "for number in numbers_list:\n",
    "    print(number)\n",
    "    \n",
    "    if number < 0:\n",
    "        break"
   ]
  },
  {
   "cell_type": "markdown",
   "metadata": {},
   "source": [
    "# Problem Statement\n",
    "\n",
    "\n",
    "- Iterate thru the a given list\n",
    "\n",
    "\n",
    "- Print the value and item number\n",
    "\n",
    "\n",
    "- if any element in given list is less than 0, break out of loop\n",
    "\n",
    "\n",
    "- print \"Incomplete execution\" if loop was terminated using break\n",
    "\n",
    "\n",
    "- print \"Complete execution\" if loop was not terminated using break"
   ]
  },
  {
   "cell_type": "markdown",
   "metadata": {},
   "source": [
    "# Bad Way "
   ]
  },
  {
   "cell_type": "code",
   "execution_count": 4,
   "metadata": {},
   "outputs": [
    {
     "name": "stdout",
     "output_type": "stream",
     "text": [
      "5  item number -  1\n",
      "43  item number -  2\n",
      "45  item number -  3\n",
      "65  item number -  4\n",
      "45  item number -  5\n",
      "1  item number -  6\n",
      "23  item number -  7\n",
      "234  item number -  8\n",
      "55  item number -  9\n",
      "complete execution\n"
     ]
    }
   ],
   "source": [
    "numbers = [5,43,45,65,45,1,23,234,55]\n",
    "\n",
    "counter = 1\n",
    "broken = False\n",
    "\n",
    "for number in numbers:\n",
    "    print(number, \" item number - \", counter)\n",
    "    counter = counter + 1\n",
    "    \n",
    "    if number < 0:\n",
    "        print(\"incomplete execution\")\n",
    "        broken = True\n",
    "        break\n",
    "\n",
    "if not broken:\n",
    "    print(\"complete execution\")\n",
    "        "
   ]
  },
  {
   "cell_type": "markdown",
   "metadata": {},
   "source": [
    "# Better Solution"
   ]
  },
  {
   "cell_type": "code",
   "execution_count": 5,
   "metadata": {},
   "outputs": [
    {
     "name": "stdout",
     "output_type": "stream",
     "text": [
      "5  item number -  1\n",
      "43  item number -  2\n",
      "45  item number -  3\n",
      "65  item number -  4\n",
      "45  item number -  5\n",
      "-1  item number -  6\n",
      "incomplete execution\n"
     ]
    }
   ],
   "source": [
    "numbers = [5,43,45,65,45,-1,23,234,55]\n",
    "\n",
    "for index, number in enumerate(numbers):\n",
    "    print(number, \" item number - \", index + 1)\n",
    "    \n",
    "    if number < 0:\n",
    "        print(\"incomplete execution\")\n",
    "        break\n",
    "\n",
    "else:\n",
    "    print(\"complete execution\")"
   ]
  },
  {
   "cell_type": "code",
   "execution_count": null,
   "metadata": {},
   "outputs": [],
   "source": []
  }
 ],
 "metadata": {
  "kernelspec": {
   "display_name": "Python 3",
   "language": "python",
   "name": "python3"
  },
  "language_info": {
   "codemirror_mode": {
    "name": "ipython",
    "version": 3
   },
   "file_extension": ".py",
   "mimetype": "text/x-python",
   "name": "python",
   "nbconvert_exporter": "python",
   "pygments_lexer": "ipython3",
   "version": "3.8.0"
  }
 },
 "nbformat": 4,
 "nbformat_minor": 4
}
